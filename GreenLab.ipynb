{
 "cells": [
  {
   "cell_type": "code",
   "execution_count": 1,
   "id": "63845d7c-0614-4793-9b62-1d80a609fa27",
   "metadata": {},
   "outputs": [
    {
     "name": "stdout",
     "output_type": "stream",
     "text": [
      "this is Green Log!\n",
      "this app helps you track and take care of your plnt\n",
      "\n",
      "  ________                              .____    ________    ________ \n",
      " /  _____/______   ____   ____   ____   |    |   \\_____  \\  /  _____/ \n",
      "/   \\  __\\_  __ \\_/ __ \\_/ __ \\ /    \\  |    |    /   |   \\/   \\  ___ \n",
      "\\    \\_\\  \\  | \\/\\  ___/\\  ___/|   |  \\ |    |___/    |    \\    \\_\\  \\\n",
      " \\______  /__|    \\___  >\\___  >___|  / |_______ \\_______  /\\______  /\n",
      "        \\/            \\/     \\/     \\/          \\/       \\/        \\/ \n",
      "\n",
      " \n",
      "                            .-~~-.--.\n",
      "                           :         )\n",
      "                     .~ ~ -.\\       /.- ~~ .\n",
      "                     >       `.   .'       <\n",
      "                    (         .- -.         )\n",
      "                     `- -.-~  `- -'  ~-.- -'\n",
      "                       (        :        )           _ _ .-:\n",
      "                        ~--.    :    .--~        .-~  .-~  }    \n",
      "                            ~-.-^-.-~ \\_      .~  .-~   .~\n",
      "                                     \\ \\'     \\ '_ _ -~\n",
      "                                      `.`.    //\n",
      "                             . - ~ ~-.__`.`-.//\n",
      "                         .-~   . - ~  }~ ~ ~-.~-.\n",
      "                       .' .-~      .-~       :/~-.~-./:\n",
      "                      /_~_ _ . - ~                 ~-.~-._\n",
      "                                                       ~-.<\n",
      "        \n",
      "***************************************\n",
      "Plants tracker\n",
      "1. Add a new plant to the collection\n",
      "2. Record a plant care activity\n",
      "3. view plants due for care\n",
      "4. Search plants by name or location\n",
      "5. view all plants\n",
      "6. Plant diagnosis\n",
      "7. Add image of your plant\n",
      "8. Plant growth\n",
      "9. Watering seasonal adjustment\n",
      "0. Exit\n"
     ]
    },
    {
     "name": "stdin",
     "output_type": "stream",
     "text": [
      "enter your choice(1,9):  0\n"
     ]
    },
    {
     "name": "stdout",
     "output_type": "stream",
     "text": [
      "Thank You!\n"
     ]
    }
   ],
   "source": [
    "import main\n",
    "main.main()"
   ]
  },
  {
   "cell_type": "code",
   "execution_count": null,
   "id": "74225375-196f-474f-9591-4855667c8bf5",
   "metadata": {},
   "outputs": [],
   "source": []
  }
 ],
 "metadata": {
  "kernelspec": {
   "display_name": "Python 3 (ipykernel)",
   "language": "python",
   "name": "python3"
  },
  "language_info": {
   "codemirror_mode": {
    "name": "ipython",
    "version": 3
   },
   "file_extension": ".py",
   "mimetype": "text/x-python",
   "name": "python",
   "nbconvert_exporter": "python",
   "pygments_lexer": "ipython3",
   "version": "3.11.5"
  }
 },
 "nbformat": 4,
 "nbformat_minor": 5
}
