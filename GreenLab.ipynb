{
 "cells": [
  {
   "cell_type": "code",
   "execution_count": 1,
   "id": "e16f1b12-800c-4499-bcd2-3de941c15059",
   "metadata": {},
   "outputs": [
    {
     "name": "stdout",
     "output_type": "stream",
     "text": [
      "this is Green Log!\n",
      "this app helps you track and take care of your plnt\n",
      "***************************************\n",
      "Plants tracker\n",
      "1. Add a new plant to the collection\n",
      "2. Record a plant care activity\n",
      "3. view plants due for care\n",
      "4. Search plants by name or location\n",
      "5. view all plants\n",
      "6. Plant diagnosis\n",
      "7. Add image of your plant\n",
      "8. Plant growth\n",
      "9. Watering seasonal adjustment\n",
      "0. Exit\n"
     ]
    },
    {
     "name": "stdin",
     "output_type": "stream",
     "text": [
      "enter your choice(1,9):  1\n"
     ]
    },
    {
     "name": "stdout",
     "output_type": "stream",
     "text": [
      "\n",
      "====Add a New Plant====\n"
     ]
    },
    {
     "name": "stdin",
     "output_type": "stream",
     "text": [
      "enter the plant name species  test1\n",
      "enter the location in home  kitchen\n",
      "enter date acquired (YY-M-D)  25-9-1\n",
      "enter the watering frequency (in days)  3\n",
      "how much sunlight does the plant needs (Low, Medium, High)  low\n",
      "Enter the type of your plant (cactus, fern, orchid, herb,Chrysanthemum, other ) fern\n"
     ]
    },
    {
     "name": "stdout",
     "output_type": "stream",
     "text": [
      "\n",
      "\n",
      " new plants.csv is created\n"
     ]
    },
    {
     "name": "stdin",
     "output_type": "stream",
     "text": [
      "Enter the current height of the plant(number):  10\n"
     ]
    },
    {
     "name": "stdout",
     "output_type": "stream",
     "text": [
      "New plant grow record added!!\n",
      "\n",
      "=== Seasonal Care Reminders for (Autumn) :\n",
      "No seasonal care reminders for any plant in this season.\n",
      "***************************************\n",
      "Plants tracker\n",
      "1. Add a new plant to the collection\n",
      "2. Record a plant care activity\n",
      "3. view plants due for care\n",
      "4. Search plants by name or location\n",
      "5. view all plants\n",
      "6. Plant diagnosis\n",
      "7. Add image of your plant\n",
      "8. Plant growth\n",
      "9. Watering seasonal adjustment\n",
      "0. Exit\n"
     ]
    },
    {
     "name": "stdin",
     "output_type": "stream",
     "text": [
      "enter your choice(1,9):  8\n"
     ]
    },
    {
     "name": "stdout",
     "output_type": "stream",
     "text": [
      "Select one of these: \n",
      "1. Add growth record to an existing plant\n",
      "2. View growth record of an existing plant\n",
      "3. Exit this function\n"
     ]
    },
    {
     "name": "stdin",
     "output_type": "stream",
     "text": [
      "Your choice is:  2\n",
      "Enter the name of the plant:  test1\n"
     ]
    },
    {
     "name": "stdout",
     "output_type": "stream",
     "text": [
      "name in db:  test1  , user name:  test1\n",
      "[{'id': '2080c930', 'growth': '10', 'date': '25-9-1'}]\n",
      "Select one of these: \n",
      "1. Add growth record to an existing plant\n",
      "2. View growth record of an existing plant\n",
      "3. Exit this function\n"
     ]
    },
    {
     "name": "stdin",
     "output_type": "stream",
     "text": [
      "Your choice is:  1\n",
      "Enter the name of the plant:  test1\n"
     ]
    },
    {
     "name": "stdout",
     "output_type": "stream",
     "text": [
      "name in db:  test1  , user name:  test1\n"
     ]
    },
    {
     "name": "stdin",
     "output_type": "stream",
     "text": [
      "Enter the current height of the plant(number):  15\n"
     ]
    },
    {
     "name": "stdout",
     "output_type": "stream",
     "text": [
      "New plant grow record added!!\n",
      "Select one of these: \n",
      "1. Add growth record to an existing plant\n",
      "2. View growth record of an existing plant\n",
      "3. Exit this function\n"
     ]
    },
    {
     "name": "stdin",
     "output_type": "stream",
     "text": [
      "Your choice is:  2\n",
      "Enter the name of the plant:  test1\n"
     ]
    },
    {
     "name": "stdout",
     "output_type": "stream",
     "text": [
      "name in db:  test1  , user name:  test1\n",
      "[{'id': '2080c930', 'growth': '10', 'date': '25-9-1'}, {'id': '2080c930', 'growth': '15', 'date': '25-9-7'}]\n",
      "Select one of these: \n",
      "1. Add growth record to an existing plant\n",
      "2. View growth record of an existing plant\n",
      "3. Exit this function\n"
     ]
    },
    {
     "name": "stdin",
     "output_type": "stream",
     "text": [
      "Your choice is:  3\n"
     ]
    },
    {
     "name": "stdout",
     "output_type": "stream",
     "text": [
      "***************************************\n",
      "Plants tracker\n",
      "1. Add a new plant to the collection\n",
      "2. Record a plant care activity\n",
      "3. view plants due for care\n",
      "4. Search plants by name or location\n",
      "5. view all plants\n",
      "6. Plant diagnosis\n",
      "7. Add image of your plant\n",
      "8. Plant growth\n",
      "9. Watering seasonal adjustment\n",
      "0. Exit\n"
     ]
    },
    {
     "name": "stdin",
     "output_type": "stream",
     "text": [
      "enter your choice(1,9):  0\n"
     ]
    },
    {
     "name": "stdout",
     "output_type": "stream",
     "text": [
      "Thank You!\n"
     ]
    }
   ],
   "source": [
    "import main\n",
    "main.main()"
   ]
  }
 ],
 "metadata": {
  "kernelspec": {
   "display_name": "Python 3 (ipykernel)",
   "language": "python",
   "name": "python3"
  },
  "language_info": {
   "codemirror_mode": {
    "name": "ipython",
    "version": 3
   },
   "file_extension": ".py",
   "mimetype": "text/x-python",
   "name": "python",
   "nbconvert_exporter": "python",
   "pygments_lexer": "ipython3",
   "version": "3.11.5"
  }
 },
 "nbformat": 4,
 "nbformat_minor": 5
}
