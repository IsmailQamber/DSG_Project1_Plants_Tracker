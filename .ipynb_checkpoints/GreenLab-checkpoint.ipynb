{
 "cells": [
  {
   "cell_type": "code",
   "execution_count": null,
   "id": "e16f1b12-800c-4499-bcd2-3de941c15059",
   "metadata": {},
   "outputs": [
    {
     "name": "stdout",
     "output_type": "stream",
     "text": [
      "this is Go Green!\n",
      "this app helps you track and take care of your plnt\n",
      "***************************************\n",
      "Plants tracker\n",
      "1. Add a new plant to the collection\n",
      "2. Record a plant care activity\n",
      "3. view plants due for care\n",
      "4. Search plants by name or location\n",
      "5. view all plants\n",
      "6. Plant diagnosis\n",
      "7. Add image of your plant\n",
      "8. Plant growth\n",
      "9. Watering seasonal adjustment\n",
      "0. Exit\n"
     ]
    },
    {
     "name": "stdin",
     "output_type": "stream",
     "text": [
      "enter your choice(1,9):  1\n"
     ]
    },
    {
     "name": "stdout",
     "output_type": "stream",
     "text": [
      "\n",
      "====Add a New Plant====\n"
     ]
    },
    {
     "name": "stdin",
     "output_type": "stream",
     "text": [
      "enter the plant name species  Hardy\n",
      "enter the location in home  Kitchen\n",
      "enter date acquired (YY-M-D)  25-09-01\n",
      "enter the watering frequency (in days)  2\n",
      "how much sunlight does the plant needs (Low, Medium, High)  Medium\n",
      "Enter the type of your plant (cactus, fern, orchid, herb,Chrysanthemum, other ) Chrysanthemum\n"
     ]
    },
    {
     "name": "stdout",
     "output_type": "stream",
     "text": [
      "\n",
      "\n",
      " new plants.csv is created\n"
     ]
    },
    {
     "name": "stdin",
     "output_type": "stream",
     "text": [
      "Enter the current height of the plant(number):  10\n"
     ]
    },
    {
     "name": "stdout",
     "output_type": "stream",
     "text": [
      "New plant grow record added!!\n",
      "\n",
      "=== Seasonal Care Reminders for (Autumn) :\n",
      "- Hardy , (Chrysanthemum) : Mums bloom in fall; water regularly, deadhead spent flowers, and protect from frost.\n",
      "***************************************\n",
      "Plants tracker\n",
      "1. Add a new plant to the collection\n",
      "2. Record a plant care activity\n",
      "3. view plants due for care\n",
      "4. Search plants by name or location\n",
      "5. view all plants\n",
      "6. Plant diagnosis\n",
      "7. Add image of your plant\n",
      "8. Plant growth\n",
      "9. Watering seasonal adjustment\n",
      "0. Exit\n"
     ]
    },
    {
     "name": "stdin",
     "output_type": "stream",
     "text": [
      "enter your choice(1,9):  2\n",
      "What is the name of the plant you took care of? type [exit] to quit:  Hardy\n",
      "\n",
      "Which activity have you performed? Choose from [Watering - Fertilizing - Repotting - Pruning]:  watering\n",
      "\n",
      "When did you perform this activity? Enter the date in this format (YYYY-MM-DD):  2025-09-07\n"
     ]
    },
    {
     "name": "stdout",
     "output_type": "stream",
     "text": [
      "\n",
      "Watering was added for the plant Hardy on the date 2025-09-07 successfully.\n",
      "***************************************\n",
      "Plants tracker\n",
      "1. Add a new plant to the collection\n",
      "2. Record a plant care activity\n",
      "3. view plants due for care\n",
      "4. Search plants by name or location\n",
      "5. view all plants\n",
      "6. Plant diagnosis\n",
      "7. Add image of your plant\n",
      "8. Plant growth\n",
      "9. Watering seasonal adjustment\n",
      "0. Exit\n"
     ]
    },
    {
     "name": "stdin",
     "output_type": "stream",
     "text": [
      "enter your choice(1,9):  3\n"
     ]
    },
    {
     "name": "stdout",
     "output_type": "stream",
     "text": [
      "Plant Hardy needs to be watered 1 more time\n",
      "***************************************\n",
      "Plants tracker\n",
      "1. Add a new plant to the collection\n",
      "2. Record a plant care activity\n",
      "3. view plants due for care\n",
      "4. Search plants by name or location\n",
      "5. view all plants\n",
      "6. Plant diagnosis\n",
      "7. Add image of your plant\n",
      "8. Plant growth\n",
      "9. Watering seasonal adjustment\n",
      "0. Exit\n"
     ]
    },
    {
     "name": "stdin",
     "output_type": "stream",
     "text": [
      "enter your choice(1,9):  4\n",
      "Enter the name of the plant or the location the plant is placed in:  Kitchen\n"
     ]
    },
    {
     "name": "stdout",
     "output_type": "stream",
     "text": [
      "         id plant_name/species location in home date_acquired  \\\n",
      "0  507e52c6              Hardy          Kitchen      25-09-01   \n",
      "\n",
      "  watering_frequency_in_days sunlight needs(low, medium, high)  type_of_plant  \n",
      "0                          2                            Medium  Chrysanthemum  \n",
      "***************************************\n",
      "Plants tracker\n",
      "1. Add a new plant to the collection\n",
      "2. Record a plant care activity\n",
      "3. view plants due for care\n",
      "4. Search plants by name or location\n",
      "5. view all plants\n",
      "6. Plant diagnosis\n",
      "7. Add image of your plant\n",
      "8. Plant growth\n",
      "9. Watering seasonal adjustment\n",
      "0. Exit\n"
     ]
    },
    {
     "name": "stdin",
     "output_type": "stream",
     "text": [
      "enter your choice(1,9):  4\n",
      "Enter the name of the plant or the location the plant is placed in:  Hardy\n"
     ]
    },
    {
     "name": "stdout",
     "output_type": "stream",
     "text": [
      "         id plant_name/species location in home date_acquired  \\\n",
      "0  507e52c6              Hardy          Kitchen      25-09-01   \n",
      "\n",
      "  watering_frequency_in_days sunlight needs(low, medium, high)  type_of_plant  \n",
      "0                          2                            Medium  Chrysanthemum  \n",
      "***************************************\n",
      "Plants tracker\n",
      "1. Add a new plant to the collection\n",
      "2. Record a plant care activity\n",
      "3. view plants due for care\n",
      "4. Search plants by name or location\n",
      "5. view all plants\n",
      "6. Plant diagnosis\n",
      "7. Add image of your plant\n",
      "8. Plant growth\n",
      "9. Watering seasonal adjustment\n",
      "0. Exit\n"
     ]
    },
    {
     "name": "stdin",
     "output_type": "stream",
     "text": [
      "enter your choice(1,9):  5\n"
     ]
    },
    {
     "name": "stdout",
     "output_type": "stream",
     "text": [
      "         id plant_name/species location in home date_acquired  \\\n",
      "0  507e52c6              Hardy          Kitchen      25-09-01   \n",
      "\n",
      "  watering_frequency_in_days sunlight needs(low, medium, high)  type_of_plant  \n",
      "0                          2                            Medium  Chrysanthemum  \n",
      "***************************************\n",
      "Plants tracker\n",
      "1. Add a new plant to the collection\n",
      "2. Record a plant care activity\n",
      "3. view plants due for care\n",
      "4. Search plants by name or location\n",
      "5. view all plants\n",
      "6. Plant diagnosis\n",
      "7. Add image of your plant\n",
      "8. Plant growth\n",
      "9. Watering seasonal adjustment\n",
      "0. Exit\n"
     ]
    },
    {
     "name": "stdin",
     "output_type": "stream",
     "text": [
      "enter your choice(1,9):  6\n",
      "enter the symptom and separate by a comma dry soil, crispy edges\n"
     ]
    },
    {
     "name": "stdout",
     "output_type": "stream",
     "text": [
      "Your plant is suffering from: \n",
      "1. underwatering\n",
      "2. low humidity\n",
      "***************************************\n",
      "Plants tracker\n",
      "1. Add a new plant to the collection\n",
      "2. Record a plant care activity\n",
      "3. view plants due for care\n",
      "4. Search plants by name or location\n",
      "5. view all plants\n",
      "6. Plant diagnosis\n",
      "7. Add image of your plant\n",
      "8. Plant growth\n",
      "9. Watering seasonal adjustment\n",
      "0. Exit\n"
     ]
    },
    {
     "name": "stdin",
     "output_type": "stream",
     "text": [
      "enter your choice(1,9):  7\n"
     ]
    },
    {
     "name": "stdout",
     "output_type": "stream",
     "text": [
      "\n",
      "\n",
      "new photo.csv was created.\n"
     ]
    },
    {
     "name": "stdin",
     "output_type": "stream",
     "text": [
      "\n",
      "\n",
      "Which plant do you wish to add a photo for?  Hardy\n",
      "\n",
      "\n",
      "Add a photo of your plant to document its progress:  photo\n"
     ]
    },
    {
     "name": "stdout",
     "output_type": "stream",
     "text": [
      "\n",
      "A new photo for the plant 'Hardy' was added successfully!\n",
      "***************************************\n",
      "Plants tracker\n",
      "1. Add a new plant to the collection\n",
      "2. Record a plant care activity\n",
      "3. view plants due for care\n",
      "4. Search plants by name or location\n",
      "5. view all plants\n",
      "6. Plant diagnosis\n",
      "7. Add image of your plant\n",
      "8. Plant growth\n",
      "9. Watering seasonal adjustment\n",
      "0. Exit\n"
     ]
    },
    {
     "name": "stdin",
     "output_type": "stream",
     "text": [
      "enter your choice(1,9):  8\n"
     ]
    },
    {
     "name": "stdout",
     "output_type": "stream",
     "text": [
      "Select one of these: \n",
      "1. Add growth record to an existing plant\n",
      "2. View growth record of an existing plant\n",
      "3. Exit this function\n"
     ]
    },
    {
     "name": "stdin",
     "output_type": "stream",
     "text": [
      "Your choice is:  1\n",
      "Enter the name of the plant:  Hardy\n"
     ]
    },
    {
     "name": "stdout",
     "output_type": "stream",
     "text": [
      "name in db:  hardy  , user name:  Hardy\n"
     ]
    },
    {
     "name": "stdin",
     "output_type": "stream",
     "text": [
      "Enter the current height of the plant(number):  12\n"
     ]
    },
    {
     "name": "stdout",
     "output_type": "stream",
     "text": [
      "New plant grow record added!!\n",
      "Select one of these: \n",
      "1. Add growth record to an existing plant\n",
      "2. View growth record of an existing plant\n",
      "3. Exit this function\n"
     ]
    },
    {
     "name": "stdin",
     "output_type": "stream",
     "text": [
      "Your choice is:  2\n",
      "Enter the name of the plant:  Hardy\n"
     ]
    },
    {
     "name": "stdout",
     "output_type": "stream",
     "text": [
      "name in db:  hardy  , user name:  Hardy\n",
      "[{'id': '507e52c6', 'growth': '10', 'date': '25-9-7'}, {'id': '507e52c6', 'growth': '12', 'date': '25-9-7'}]\n",
      "Select one of these: \n",
      "1. Add growth record to an existing plant\n",
      "2. View growth record of an existing plant\n",
      "3. Exit this function\n"
     ]
    },
    {
     "name": "stdin",
     "output_type": "stream",
     "text": [
      "Your choice is:  3\n"
     ]
    },
    {
     "name": "stdout",
     "output_type": "stream",
     "text": [
      "***************************************\n",
      "Plants tracker\n",
      "1. Add a new plant to the collection\n",
      "2. Record a plant care activity\n",
      "3. view plants due for care\n",
      "4. Search plants by name or location\n",
      "5. view all plants\n",
      "6. Plant diagnosis\n",
      "7. Add image of your plant\n",
      "8. Plant growth\n",
      "9. Watering seasonal adjustment\n",
      "0. Exit\n"
     ]
    },
    {
     "name": "stdin",
     "output_type": "stream",
     "text": [
      "enter your choice(1,9):  9\n",
      "Enter the current Season [Winter, Spring, Summer, Autumn] Autumn\n"
     ]
    },
    {
     "name": "stdout",
     "output_type": "stream",
     "text": [
      "Hardy, of type: Chrysanthemum watering frequency changes from 2 to 5\n",
      "***************************************\n",
      "Plants tracker\n",
      "1. Add a new plant to the collection\n",
      "2. Record a plant care activity\n",
      "3. view plants due for care\n",
      "4. Search plants by name or location\n",
      "5. view all plants\n",
      "6. Plant diagnosis\n",
      "7. Add image of your plant\n",
      "8. Plant growth\n",
      "9. Watering seasonal adjustment\n",
      "0. Exit\n"
     ]
    }
   ],
   "source": [
    "import main\n",
    "main.main()"
   ]
  }
 ],
 "metadata": {
  "kernelspec": {
   "display_name": "Python 3 (ipykernel)",
   "language": "python",
   "name": "python3"
  },
  "language_info": {
   "codemirror_mode": {
    "name": "ipython",
    "version": 3
   },
   "file_extension": ".py",
   "mimetype": "text/x-python",
   "name": "python",
   "nbconvert_exporter": "python",
   "pygments_lexer": "ipython3",
   "version": "3.11.5"
  }
 },
 "nbformat": 4,
 "nbformat_minor": 5
}
